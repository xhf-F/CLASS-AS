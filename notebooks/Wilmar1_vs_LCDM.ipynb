{
 "cells": [
  {
   "cell_type": "code",
   "execution_count": 1,
   "metadata": {},
   "outputs": [],
   "source": [
    "import numpy as np\n",
    "import matplotlib.pyplot as plt\n",
    "import classy\n",
    "from classy import Class"
   ]
  },
  {
   "cell_type": "code",
   "execution_count": 2,
   "metadata": {},
   "outputs": [],
   "source": [
    "params_lcdm = {'output': 'mPk, dTk', \n",
    "               'P_k_max_1/Mpc': 3.0, \n",
    "               'non_linear': 'halofit', \n",
    "               'z_max_pk': '0.5',\n",
    "               'Omega_cdm': '0.25',\n",
    "               'Omega_b': '0.05',\n",
    "               'background_verbose': '2',\n",
    "               'H0': '67.32'}\n",
    "lcdm = Class()\n",
    "lcdm.set(params_lcdm)\n",
    "lcdm.compute()"
   ]
  },
  {
   "cell_type": "code",
   "execution_count": 3,
   "metadata": {},
   "outputs": [],
   "source": [
    "cosmo1=Class()\n",
    "cosmo1.set ({'output':'mPk, dTk','P_k_max_1/Mpc':3.0, 'Omega_Lambda' : 0., 'non_linear':'halofit','z_max_pk':'0.5',\n",
    "               'Omega_cdm':'0.25' ,'Omega_b':'0.05', 'background_verbose': '2', 'H0': '67.32',\n",
    "            'fluid_equation_of_state': 'CLP', 'w0_fld' : -0.99, 'wa_fld' : 0., 'e_pi' : 0.5, 'f_pi' : 8.0,\n",
    "            'log10ceff2' : -5.0, 'log10g_pi' : 10.0, 'use_ppf' : 'no', 'gauge' : 'newtonian'})\n",
    "cosmo1.compute()"
   ]
  },
  {
   "cell_type": "code",
   "execution_count": 3,
   "metadata": {},
   "outputs": [],
   "source": [
    "params_ewcdm = {'output': 'mPk, dTk',\n",
    "                'P_k_max_1/Mpc': 3.0,\n",
    "                'Omega_Lambda': 0.,\n",
    "                'non_linear': 'halofit',\n",
    "                'modes': 's', #\n",
    "                'A_s': 2.3e-9, #\n",
    "                'n_s': 0.9616, #\n",
    "                'z_max_pk': '0.5',\n",
    "                'Omega_cdm': '0.25',\n",
    "                'Omega_b': '0.05',\n",
    "                'background_verbose': '2',\n",
    "                'H0': '67.32',\n",
    "                'fluid_equation_of_state': 'CLP',\n",
    "                'w0_fld': -0.99,\n",
    "                'wa_fld': 0.,\n",
    "                'e_pi': 0.5,\n",
    "                #'f_pi': 8.0,\n",
    "                #'log10ceff2': -5.0,\n",
    "                #'log10g_pi': 10.0,\n",
    "                'use_ppf': 'no',\n",
    "                'gauge': 'newtonian'}\n",
    "ewcdm = Class()\n",
    "ewcdm.set(params_ewcdm)\n",
    "ewcdm.compute()"
   ]
  },
  {
   "cell_type": "code",
   "execution_count": null,
   "metadata": {},
   "outputs": [],
   "source": [
    "weyl_ew = ewcdm.get_Weyl_pk_and_k_and_z(nonlinear = False)[0]"
   ]
  },
  {
   "cell_type": "code",
   "execution_count": null,
   "metadata": {},
   "outputs": [],
   "source": []
  }
 ],
 "metadata": {
  "kernelspec": {
   "display_name": "Python 3",
   "language": "python",
   "name": "python3"
  },
  "language_info": {
   "codemirror_mode": {
    "name": "ipython",
    "version": 3
   },
   "file_extension": ".py",
   "mimetype": "text/x-python",
   "name": "python",
   "nbconvert_exporter": "python",
   "pygments_lexer": "ipython3",
   "version": "3.6.9"
  }
 },
 "nbformat": 4,
 "nbformat_minor": 2
}
