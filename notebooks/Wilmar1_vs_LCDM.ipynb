{
 "cells": [
  {
   "cell_type": "code",
   "execution_count": 1,
   "metadata": {},
   "outputs": [],
   "source": [
    "import numpy as np\n",
    "import matplotlib.pyplot as plt\n",
    "import classy\n",
    "from classy import Class"
   ]
  },
  {
   "cell_type": "code",
   "execution_count": 2,
   "metadata": {},
   "outputs": [],
   "source": [
    "params_lcdm = {'output': 'mPk, dTk', \n",
    "               'P_k_max_1/Mpc': 3.0, \n",
    "               'non_linear': 'halofit', \n",
    "               'z_max_pk': '0.5',\n",
    "               'Omega_cdm': '0.25',\n",
    "               'Omega_b': '0.05',\n",
    "               'background_verbose': '2',\n",
    "               'H0': '67.32'}\n",
    "lcdm = Class()\n",
    "lcdm.set(params_lcdm)\n",
    "lcdm.compute()"
   ]
  },
  {
   "cell_type": "code",
   "execution_count": 3,
   "metadata": {},
   "outputs": [],
   "source": [
    "cosmo1=Class()\n",
    "cosmo1.set ({'output':'mPk, dTk','P_k_max_1/Mpc':3.0, 'Omega_Lambda' : 0., 'non_linear':'halofit','z_max_pk':'0.5',\n",
    "               'Omega_cdm':'0.25' ,'Omega_b':'0.05', 'background_verbose': '2', 'H0': '67.32',\n",
    "            'fluid_equation_of_state': 'CLP', 'w0_fld' : -0.99, 'wa_fld' : 0., 'e_pi' : 0.5, 'f_pi' : 8.0,\n",
    "            'log10ceff2' : -5.0, 'log10g_pi' : 10.0, 'use_ppf' : 'no', 'gauge' : 'newtonian'})\n",
    "cosmo1.compute()"
   ]
  },
  {
   "cell_type": "code",
   "execution_count": 4,
   "metadata": {},
   "outputs": [],
   "source": [
    "params_ewcdm = {'output': 'mPk, dTk',\n",
    "                'P_k_max_1/Mpc': 3.0,\n",
    "                'Omega_Lambda': 0.,\n",
    "                'non_linear': 'halofit',\n",
    "                'modes': 's', #\n",
    "                'A_s': 2.3e-9, #\n",
    "                'n_s': 0.9616, #\n",
    "                'z_max_pk': '0.5',\n",
    "                'Omega_cdm': '0.25',\n",
    "                'Omega_b': '0.05',\n",
    "                'background_verbose': '2',\n",
    "                'H0': '67.32',\n",
    "                'fluid_equation_of_state': 'CLP',\n",
    "                'w0_fld': -0.99,\n",
    "                'wa_fld': 0.,\n",
    "                'e_pi': 0., #from 0.5 to 0\n",
    "                'f_pi': 0., #from 8.0 to 0\n",
    "                'log10ceff2': -5.0,\n",
    "                'log10g_pi': 10.0,\n",
    "                'use_ppf': 'no',\n",
    "                'gauge': 'newtonian'}\n",
    "ewcdm = Class()\n",
    "ewcdm.set(params_ewcdm)\n",
    "ewcdm.compute()"
   ]
  },
  {
   "cell_type": "code",
   "execution_count": null,
   "metadata": {},
   "outputs": [],
   "source": [
    "weyl_ew = ewcdm.get_Weyl_pk_and_k_and_z()[0]"
   ]
  },
  {
   "cell_type": "code",
   "execution_count": null,
   "metadata": {},
   "outputs": [],
   "source": [
    "weyl_lcdm = lcdm.get_Weyl_pk_and_k_and_z(nonlinear = False)[0]"
   ]
  },
  {
   "cell_type": "code",
   "execution_count": 5,
   "metadata": {},
   "outputs": [],
   "source": [
    "pk_ew = ewcdm.get_pk_and_k_and_z(nonlinear=False)[0][:,0] # z = 0.24\n",
    "pk_k_ew = ewcdm.get_pk_and_k_and_z(nonlinear=False)[1]"
   ]
  },
  {
   "cell_type": "code",
   "execution_count": 8,
   "metadata": {},
   "outputs": [],
   "source": [
    "pk_ew = ewcdm.get_pk_and_k_and_z(nonlinear=False)[0][:,3] # z = 0.0\n",
    "pk_k_ew = ewcdm.get_pk_and_k_and_z(nonlinear=False)[1]"
   ]
  },
  {
   "cell_type": "code",
   "execution_count": 7,
   "metadata": {},
   "outputs": [
    {
     "data": {
      "text/plain": [
       "array([0.24343151, 0.12307202, 0.01379159, 0.        ])"
      ]
     },
     "execution_count": 7,
     "metadata": {},
     "output_type": "execute_result"
    }
   ],
   "source": [
    "pk_ew_z = ewcdm.get_pk_and_k_and_z(nonlinear=False)[2]\n",
    "pk_ew_z"
   ]
  },
  {
   "cell_type": "code",
   "execution_count": 9,
   "metadata": {},
   "outputs": [
    {
     "data": {
      "text/plain": [
       "array([1.90842151e+02, 2.32104269e+02, 3.19831524e+02, 3.70737892e+02,\n",
       "       4.48686981e+02, 5.59406560e+02, 7.00262453e+02, 8.76368399e+02,\n",
       "       1.09611104e+03, 1.36935942e+03, 1.70792150e+03, 2.13102078e+03,\n",
       "       2.65859644e+03, 3.31668362e+03, 4.13648558e+03, 5.15708614e+03,\n",
       "       6.42505685e+03, 7.99843278e+03, 9.94538319e+03, 1.23460680e+04,\n",
       "       1.52921147e+04, 1.88842594e+04, 2.32294188e+04, 2.84272975e+04,\n",
       "       3.45547138e+04, 4.16414889e+04, 4.96358812e+04, 5.83611591e+04,\n",
       "       6.74640352e+04, 7.63573193e+04, 8.41636755e+04, 8.97019543e+04,\n",
       "       9.15215016e+04, 8.82288521e+04, 7.92364910e+04, 6.59231925e+04,\n",
       "       5.27582866e+04, 4.52710009e+04, 4.17079909e+04, 3.95504559e+04,\n",
       "       3.79539005e+04, 3.65717826e+04, 3.52299693e+04, 3.38343831e+04,\n",
       "       3.23428074e+04, 3.07425796e+04, 2.90499063e+04, 2.72969733e+04,\n",
       "       2.55282973e+04, 2.37981400e+04, 2.21564735e+04, 2.06507802e+04,\n",
       "       1.93163833e+04, 1.81753250e+04, 1.72320038e+04, 1.64746807e+04,\n",
       "       1.58754244e+04, 1.53895941e+04, 1.49636031e+04, 1.45386173e+04,\n",
       "       1.40576459e+04, 1.34802842e+04, 1.27906708e+04, 1.20035013e+04,\n",
       "       1.11593458e+04, 1.03164793e+04, 9.53712814e+03, 8.87080497e+03,\n",
       "       8.34200118e+03, 7.94424736e+03, 7.64319878e+03, 7.38523301e+03,\n",
       "       7.10922768e+03, 6.76662673e+03, 6.34780746e+03, 5.88360125e+03,\n",
       "       5.42724991e+03, 5.02705473e+03, 4.70921450e+03, 4.46995050e+03,\n",
       "       4.27297795e+03, 4.07182666e+03, 3.83642438e+03, 3.56881387e+03,\n",
       "       3.29995703e+03, 3.06632796e+03, 2.87978225e+03, 2.72397379e+03,\n",
       "       2.57085934e+03, 2.40257380e+03, 2.22825554e+03, 2.06809473e+03,\n",
       "       1.93276885e+03, 1.81165522e+03, 1.68985679e+03, 1.56568136e+03,\n",
       "       1.44936822e+03, 1.34518896e+03, 1.24742740e+03, 1.15001489e+03,\n",
       "       1.05664883e+03, 9.70610322e+02, 8.87014518e+02, 8.05794248e+02,\n",
       "       7.28406526e+02, 6.52533480e+02, 5.78366635e+02, 5.04597915e+02,\n",
       "       4.30356247e+02, 3.54019327e+02, 2.74139800e+02, 1.91811289e+02,\n",
       "       1.18279895e+02, 6.85706404e+01, 3.92271359e+01, 2.22560487e+01,\n",
       "       1.25365245e+01, 7.01408511e+00, 3.90082660e+00])"
      ]
     },
     "execution_count": 9,
     "metadata": {},
     "output_type": "execute_result"
    }
   ],
   "source": [
    "pk_ew"
   ]
  },
  {
   "cell_type": "code",
   "execution_count": 10,
   "metadata": {},
   "outputs": [
    {
     "data": {
      "text/plain": [
       "array([6.93296453e-06, 8.72808523e-06, 1.09880083e-05, 1.38330829e-05,\n",
       "       1.74148195e-05, 2.19239589e-05, 2.76006289e-05, 3.47471331e-05,\n",
       "       4.37440489e-05, 5.50704948e-05, 6.93296453e-05, 8.72808523e-05,\n",
       "       1.09880083e-04, 1.38330829e-04, 1.74148195e-04, 2.19239589e-04,\n",
       "       2.76006289e-04, 3.47471331e-04, 4.37440489e-04, 5.50704948e-04,\n",
       "       6.93296453e-04, 8.72808523e-04, 1.09880083e-03, 1.38330829e-03,\n",
       "       1.74148195e-03, 2.19239589e-03, 2.76006289e-03, 3.47471331e-03,\n",
       "       4.37440489e-03, 5.50704948e-03, 6.93296453e-03, 8.72808523e-03,\n",
       "       1.09880083e-02, 1.38330828e-02, 1.74147511e-02, 2.19139354e-02,\n",
       "       2.72495800e-02, 3.18193966e-02, 3.51215830e-02, 3.78332103e-02,\n",
       "       4.02488981e-02, 4.24990158e-02, 4.46521634e-02, 4.67493024e-02,\n",
       "       4.88172542e-02, 5.08748746e-02, 5.29362026e-02, 5.50122049e-02,\n",
       "       5.71118078e-02, 5.92425390e-02, 6.14109452e-02, 6.36228724e-02,\n",
       "       6.58836603e-02, 6.81982799e-02, 7.05714327e-02, 7.30076242e-02,\n",
       "       7.55112173e-02, 7.80864733e-02, 8.07375819e-02, 8.34686843e-02,\n",
       "       8.62838898e-02, 8.91872895e-02, 9.21829653e-02, 9.52749983e-02,\n",
       "       9.84674742e-02, 1.01764490e-01, 1.05170157e-01, 1.08688612e-01,\n",
       "       1.12324020e-01, 1.16080583e-01, 1.19962556e-01, 1.23974258e-01,\n",
       "       1.28120092e-01, 1.32404564e-01, 1.36832314e-01, 1.41408145e-01,\n",
       "       1.46137062e-01, 1.51024317e-01, 1.56075461e-01, 1.61296402e-01,\n",
       "       1.66693481e-01, 1.72273544e-01, 1.78044045e-01, 1.84013148e-01,\n",
       "       1.90189855e-01, 1.96584156e-01, 2.03207204e-01, 2.10071522e-01,\n",
       "       2.17191257e-01, 2.24582476e-01, 2.32263549e-01, 2.40255600e-01,\n",
       "       2.48583094e-01, 2.57274565e-01, 2.66363563e-01, 2.75889890e-01,\n",
       "       2.85901230e-01, 2.96455354e-01, 3.07623152e-01, 3.19492871e-01,\n",
       "       3.32176219e-01, 3.45817351e-01, 3.60606548e-01, 3.76801757e-01,\n",
       "       3.94763952e-01, 4.15018064e-01, 4.38364131e-01, 4.66094092e-01,\n",
       "       5.00448290e-01, 5.45654596e-01, 6.10385962e-01, 7.12430455e-01,\n",
       "       8.75407173e-01, 1.09998571e+00, 1.38475795e+00, 1.74330681e+00,\n",
       "       2.19469324e+00, 2.76295509e+00, 3.47835437e+00])"
      ]
     },
     "execution_count": 10,
     "metadata": {},
     "output_type": "execute_result"
    }
   ],
   "source": [
    "pk_k_ew"
   ]
  },
  {
   "cell_type": "code",
   "execution_count": null,
   "metadata": {},
   "outputs": [],
   "source": []
  }
 ],
 "metadata": {
  "kernelspec": {
   "display_name": "Python 3",
   "language": "python",
   "name": "python3"
  },
  "language_info": {
   "codemirror_mode": {
    "name": "ipython",
    "version": 3
   },
   "file_extension": ".py",
   "mimetype": "text/x-python",
   "name": "python",
   "nbconvert_exporter": "python",
   "pygments_lexer": "ipython3",
   "version": "3.6.9"
  }
 },
 "nbformat": 4,
 "nbformat_minor": 2
}
